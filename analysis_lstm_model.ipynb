{
 "cells": [
  {
   "cell_type": "code",
   "id": "initial_id",
   "metadata": {
    "collapsed": true,
    "ExecuteTime": {
     "end_time": "2024-10-02T11:39:33.106362Z",
     "start_time": "2024-10-02T11:39:28.520676Z"
    }
   },
   "source": [
    "import time, joblib, os, math\n",
    "import seaborn as sns\n",
    "import numpy as np\n",
    "import pandas as pd\n",
    "import dask.array as da\n",
    "from dask.diagnostics import ProgressBar\n",
    "\n",
    "import matplotlib.pyplot as plt\n",
    "import lightgbm as lgb\n",
    "import tensorflow as tf\n",
    "from sklearn.conftest import dataset_fetchers\n",
    "\n",
    "from sklearn.linear_model import LinearRegression\n",
    "from tensorflow import keras\n",
    "from sklearn.metrics import mean_absolute_error, r2_score, mean_absolute_percentage_error\n",
    "from utils.dataset import load_dataset_v2, create_lstm_dataset\n",
    "from tqdm.notebook import tqdm"
   ],
   "outputs": [],
   "execution_count": 1
  },
  {
   "metadata": {
    "ExecuteTime": {
     "end_time": "2024-10-02T11:39:33.121361Z",
     "start_time": "2024-10-02T11:39:33.111363Z"
    }
   },
   "cell_type": "code",
   "source": [
    "pbar = ProgressBar()\n",
    "pbar.register()"
   ],
   "id": "c9576c746799f44e",
   "outputs": [],
   "execution_count": 2
  },
  {
   "metadata": {
    "ExecuteTime": {
     "end_time": "2024-10-02T11:39:33.316923Z",
     "start_time": "2024-10-02T11:39:33.303894Z"
    }
   },
   "cell_type": "code",
   "source": [
    "file_name_list = os.listdir(os.path.join('data', 'ver_2'))\n",
    "file_path_list = []\n",
    "\n",
    "for file_name in file_name_list:\n",
    "    file_path_list.append(os.path.join('data', 'ver_2', file_name))\n",
    "\n",
    "start_time = time.strftime('%Y%m%d-%H%M%S', time.localtime(time.time()))"
   ],
   "id": "d95fee7637aa9cc",
   "outputs": [],
   "execution_count": 3
  },
  {
   "metadata": {
    "ExecuteTime": {
     "end_time": "2024-10-02T11:39:41.056919Z",
     "start_time": "2024-10-02T11:39:33.333924Z"
    }
   },
   "cell_type": "code",
   "source": "dataset= load_dataset_v2(file_path_list)",
   "id": "51bd7e43206c8e8c",
   "outputs": [
    {
     "data": {
      "text/plain": [
       "loading dataset...:   0%|          | 0/84 [00:00<?, ?it/s]"
      ],
      "application/vnd.jupyter.widget-view+json": {
       "version_major": 2,
       "version_minor": 0,
       "model_id": "0f50017bdee74a238b9509fb6764a67c"
      }
     },
     "metadata": {},
     "output_type": "display_data"
    }
   ],
   "execution_count": 4
  },
  {
   "metadata": {
    "ExecuteTime": {
     "end_time": "2024-10-02T11:39:41.192436Z",
     "start_time": "2024-10-02T11:39:41.088919Z"
    }
   },
   "cell_type": "code",
   "source": [
    "dataset = dataset[dataset['outlet_flowrate(lpm)'] > 1]\n",
    "dataset = dataset[::10]\n",
    "dataset.reset_index(drop=True, inplace=True)"
   ],
   "id": "72df111fd571b99e",
   "outputs": [],
   "execution_count": 5
  },
  {
   "metadata": {
    "ExecuteTime": {
     "end_time": "2024-10-02T11:39:41.282649Z",
     "start_time": "2024-10-02T11:39:41.224437Z"
    }
   },
   "cell_type": "code",
   "source": [
    "extra_column_name_list = ['pressure_1(bar)', 'main_pressure(bar)']\n",
    "extra_feature = pd.DataFrame()\n",
    "\n",
    "for col_name in extra_column_name_list:\n",
    "    extra_feature['grad_'+col_name] = np.gradient(dataset[col_name].to_numpy())\n",
    "\n",
    "dataset = pd.concat([dataset, extra_feature], axis=1)"
   ],
   "id": "cd82eff87761e673",
   "outputs": [],
   "execution_count": 6
  },
  {
   "metadata": {
    "ExecuteTime": {
     "end_time": "2024-10-02T11:39:41.342821Z",
     "start_time": "2024-10-02T11:39:41.314823Z"
    }
   },
   "cell_type": "code",
   "source": [
    "dataset_value = dataset.drop(columns=['reserved', 'time(s)', 'test_case', 'test_case_iter'])\n",
    "dataset_value = pd.concat([dataset_value, extra_feature], axis=1)"
   ],
   "id": "872dfa84d45c5ab0",
   "outputs": [],
   "execution_count": 7
  },
  {
   "metadata": {
    "ExecuteTime": {
     "end_time": "2024-10-02T11:39:41.448362Z",
     "start_time": "2024-10-02T11:39:41.407355Z"
    }
   },
   "cell_type": "code",
   "source": [
    "feature_col_name_list = ['pressure_1(bar)', 'main_pressure(bar)', 'grad_pressure_1(bar)', 'grad_main_pressure(bar)']\n",
    "target_col_name = 'outlet_flowrate(lpm)'\n",
    "\n",
    "train_data = dataset[dataset['test_case_iter']!=3]\n",
    "val_data = dataset[dataset['test_case_iter']==3]\n",
    "\n",
    "train_feature = train_data[feature_col_name_list]\n",
    "train_feature.reset_index(drop=True, inplace=True)\n",
    "\n",
    "train_target = pd.DataFrame(train_data[target_col_name])\n",
    "train_target.reset_index(drop=True, inplace=True)\n",
    "\n",
    "val_feature = val_data[feature_col_name_list]\n",
    "val_feature.reset_index(drop=True, inplace=True)\n",
    "\n",
    "val_target = pd.DataFrame(val_data[target_col_name])\n",
    "val_target.reset_index(drop=True, inplace=True)"
   ],
   "id": "f2d70e086031b6a1",
   "outputs": [],
   "execution_count": 8
  },
  {
   "metadata": {
    "ExecuteTime": {
     "end_time": "2024-10-02T11:42:42.821998Z",
     "start_time": "2024-10-02T11:42:42.533425Z"
    }
   },
   "cell_type": "code",
   "source": [
    "seq_len = 30\n",
    "pred_distance = 0\n",
    "\n",
    "train_feature, train_target = create_lstm_dataset(train_data[feature_col_name_list+[target_col_name]].to_numpy(), seq_len=seq_len, pred_distance=pred_distance, target_idx_pos=4)\n",
    "val_feature, val_target = create_lstm_dataset(val_data[feature_col_name_list+[target_col_name]].to_numpy(), seq_len=seq_len, pred_distance=pred_distance, target_idx_pos=4)"
   ],
   "id": "655bce8cd91d4a81",
   "outputs": [],
   "execution_count": 18
  },
  {
   "metadata": {
    "ExecuteTime": {
     "end_time": "2024-10-02T11:39:44.823356Z",
     "start_time": "2024-10-02T11:39:41.887310Z"
    }
   },
   "cell_type": "code",
   "source": "best_lstm_model = keras.models.load_model('lstm_model.keras')",
   "id": "3dca175cb4415a66",
   "outputs": [],
   "execution_count": 10
  },
  {
   "metadata": {
    "ExecuteTime": {
     "end_time": "2024-10-02T11:42:26.675630Z",
     "start_time": "2024-10-02T11:39:44.885357Z"
    }
   },
   "cell_type": "code",
   "source": [
    "train_pred = best_lstm_model.predict(train_feature, verbose=1)\n",
    "val_pred = best_lstm_model.predict(val_feature, verbose=1)"
   ],
   "id": "27217c9d1a87f9fd",
   "outputs": [
    {
     "name": "stdout",
     "output_type": "stream",
     "text": [
      "4142/4142 [==============================] - 108s 25ms/step\n",
      "2000/2000 [==============================] - 51s 25ms/step\n"
     ]
    }
   ],
   "execution_count": 11
  },
  {
   "metadata": {
    "ExecuteTime": {
     "end_time": "2024-10-02T11:42:26.751915Z",
     "start_time": "2024-10-02T11:42:26.738915Z"
    }
   },
   "cell_type": "code",
   "source": "print(r2_score(train_target, train_pred), r2_score(val_target, val_pred))",
   "id": "d8ab4c681171cede",
   "outputs": [
    {
     "name": "stdout",
     "output_type": "stream",
     "text": [
      "0.9663291715084642 0.9516175626648637\n"
     ]
    }
   ],
   "execution_count": 12
  },
  {
   "metadata": {
    "ExecuteTime": {
     "end_time": "2024-10-02T11:42:26.856947Z",
     "start_time": "2024-10-02T11:42:26.836947Z"
    }
   },
   "cell_type": "code",
   "source": "print(mean_absolute_error(train_target, train_pred), mean_absolute_error(val_target, val_pred))",
   "id": "dec521d1a98264e2",
   "outputs": [
    {
     "name": "stdout",
     "output_type": "stream",
     "text": [
      "61.0485990305632 74.51838399311947\n"
     ]
    }
   ],
   "execution_count": 13
  },
  {
   "metadata": {
    "ExecuteTime": {
     "end_time": "2024-10-02T11:42:26.947490Z",
     "start_time": "2024-10-02T11:42:26.927984Z"
    }
   },
   "cell_type": "code",
   "source": "print(mean_absolute_percentage_error(train_target, train_pred), mean_absolute_percentage_error(val_target, val_pred)) ",
   "id": "c88ae0c14a04150a",
   "outputs": [
    {
     "name": "stdout",
     "output_type": "stream",
     "text": [
      "0.16179117605413812 0.22302372462913195\n"
     ]
    }
   ],
   "execution_count": 14
  },
  {
   "metadata": {
    "ExecuteTime": {
     "end_time": "2024-10-02T11:42:44.492470Z",
     "start_time": "2024-10-02T11:42:44.477468Z"
    }
   },
   "cell_type": "code",
   "source": [
    "train_target_da = da.from_array(train_target, chunks=1000)\n",
    "train_pred_da = da.from_array(train_pred, chunks=1000)\n",
    "val_target_da = da.from_array(val_target, chunks=1000)\n",
    "val_pred_da = da.from_array(val_pred, chunks=1000)"
   ],
   "id": "981498bda751cf69",
   "outputs": [],
   "execution_count": 19
  },
  {
   "metadata": {
    "ExecuteTime": {
     "end_time": "2024-10-02T11:44:21.543994Z",
     "start_time": "2024-10-02T11:44:21.518994Z"
    }
   },
   "cell_type": "code",
   "source": [
    "train_error_da = da.absolute(train_target_da - train_pred_da)/train_target_da*100\n",
    "train_error_da"
   ],
   "id": "278cfe12280749e0",
   "outputs": [
    {
     "name": "stderr",
     "output_type": "stream",
     "text": [
      "D:\\Workspace\\Python\\python_virtual_env\\tensorflow_gpu_python37\\lib\\site-packages\\dask\\array\\core.py:4608: PerformanceWarning: Increasing number of chunks by factor of 133\n",
      "  **blockwise_kwargs,\n"
     ]
    },
    {
     "data": {
      "text/plain": [
       "dask.array<mul, shape=(132531, 132531), dtype=float64, chunksize=(1000, 1000), chunktype=numpy.ndarray>"
      ],
      "text/html": [
       "<table>\n",
       "    <tr>\n",
       "        <td>\n",
       "            <table>\n",
       "                <thead>\n",
       "                    <tr>\n",
       "                        <td> </td>\n",
       "                        <th> Array </th>\n",
       "                        <th> Chunk </th>\n",
       "                    </tr>\n",
       "                </thead>\n",
       "                <tbody>\n",
       "                    \n",
       "                    <tr>\n",
       "                        <th> Bytes </th>\n",
       "                        <td> 130.87 GiB </td>\n",
       "                        <td> 7.63 MiB </td>\n",
       "                    </tr>\n",
       "                    \n",
       "                    <tr>\n",
       "                        <th> Shape </th>\n",
       "                        <td> (132531, 132531) </td>\n",
       "                        <td> (1000, 1000) </td>\n",
       "                    </tr>\n",
       "                    <tr>\n",
       "                        <th> Count </th>\n",
       "                        <td> 71022 Tasks </td>\n",
       "                        <td> 17689 Chunks </td>\n",
       "                    </tr>\n",
       "                    <tr>\n",
       "                    <th> Type </th>\n",
       "                    <td> float64 </td>\n",
       "                    <td> numpy.ndarray </td>\n",
       "                    </tr>\n",
       "                </tbody>\n",
       "            </table>\n",
       "        </td>\n",
       "        <td>\n",
       "        <svg width=\"170\" height=\"170\" style=\"stroke:rgb(0,0,0);stroke-width:1\" >\n",
       "\n",
       "  <!-- Horizontal lines -->\n",
       "  <line x1=\"0\" y1=\"0\" x2=\"120\" y2=\"0\" style=\"stroke-width:2\" />\n",
       "  <line x1=\"0\" y1=\"6\" x2=\"120\" y2=\"6\" />\n",
       "  <line x1=\"0\" y1=\"12\" x2=\"120\" y2=\"12\" />\n",
       "  <line x1=\"0\" y1=\"19\" x2=\"120\" y2=\"19\" />\n",
       "  <line x1=\"0\" y1=\"25\" x2=\"120\" y2=\"25\" />\n",
       "  <line x1=\"0\" y1=\"31\" x2=\"120\" y2=\"31\" />\n",
       "  <line x1=\"0\" y1=\"38\" x2=\"120\" y2=\"38\" />\n",
       "  <line x1=\"0\" y1=\"44\" x2=\"120\" y2=\"44\" />\n",
       "  <line x1=\"0\" y1=\"50\" x2=\"120\" y2=\"50\" />\n",
       "  <line x1=\"0\" y1=\"57\" x2=\"120\" y2=\"57\" />\n",
       "  <line x1=\"0\" y1=\"63\" x2=\"120\" y2=\"63\" />\n",
       "  <line x1=\"0\" y1=\"69\" x2=\"120\" y2=\"69\" />\n",
       "  <line x1=\"0\" y1=\"76\" x2=\"120\" y2=\"76\" />\n",
       "  <line x1=\"0\" y1=\"82\" x2=\"120\" y2=\"82\" />\n",
       "  <line x1=\"0\" y1=\"88\" x2=\"120\" y2=\"88\" />\n",
       "  <line x1=\"0\" y1=\"95\" x2=\"120\" y2=\"95\" />\n",
       "  <line x1=\"0\" y1=\"101\" x2=\"120\" y2=\"101\" />\n",
       "  <line x1=\"0\" y1=\"107\" x2=\"120\" y2=\"107\" />\n",
       "  <line x1=\"0\" y1=\"114\" x2=\"120\" y2=\"114\" />\n",
       "  <line x1=\"0\" y1=\"120\" x2=\"120\" y2=\"120\" style=\"stroke-width:2\" />\n",
       "\n",
       "  <!-- Vertical lines -->\n",
       "  <line x1=\"0\" y1=\"0\" x2=\"0\" y2=\"120\" style=\"stroke-width:2\" />\n",
       "  <line x1=\"6\" y1=\"0\" x2=\"6\" y2=\"120\" />\n",
       "  <line x1=\"12\" y1=\"0\" x2=\"12\" y2=\"120\" />\n",
       "  <line x1=\"19\" y1=\"0\" x2=\"19\" y2=\"120\" />\n",
       "  <line x1=\"25\" y1=\"0\" x2=\"25\" y2=\"120\" />\n",
       "  <line x1=\"31\" y1=\"0\" x2=\"31\" y2=\"120\" />\n",
       "  <line x1=\"38\" y1=\"0\" x2=\"38\" y2=\"120\" />\n",
       "  <line x1=\"44\" y1=\"0\" x2=\"44\" y2=\"120\" />\n",
       "  <line x1=\"50\" y1=\"0\" x2=\"50\" y2=\"120\" />\n",
       "  <line x1=\"57\" y1=\"0\" x2=\"57\" y2=\"120\" />\n",
       "  <line x1=\"63\" y1=\"0\" x2=\"63\" y2=\"120\" />\n",
       "  <line x1=\"69\" y1=\"0\" x2=\"69\" y2=\"120\" />\n",
       "  <line x1=\"76\" y1=\"0\" x2=\"76\" y2=\"120\" />\n",
       "  <line x1=\"82\" y1=\"0\" x2=\"82\" y2=\"120\" />\n",
       "  <line x1=\"88\" y1=\"0\" x2=\"88\" y2=\"120\" />\n",
       "  <line x1=\"95\" y1=\"0\" x2=\"95\" y2=\"120\" />\n",
       "  <line x1=\"101\" y1=\"0\" x2=\"101\" y2=\"120\" />\n",
       "  <line x1=\"107\" y1=\"0\" x2=\"107\" y2=\"120\" />\n",
       "  <line x1=\"114\" y1=\"0\" x2=\"114\" y2=\"120\" />\n",
       "  <line x1=\"120\" y1=\"0\" x2=\"120\" y2=\"120\" style=\"stroke-width:2\" />\n",
       "\n",
       "  <!-- Colored Rectangle -->\n",
       "  <polygon points=\"0.0,0.0 120.0,0.0 120.0,120.0 0.0,120.0\" style=\"fill:#8B4903A0;stroke-width:0\"/>\n",
       "\n",
       "  <!-- Text -->\n",
       "  <text x=\"60.000000\" y=\"140.000000\" font-size=\"1.0rem\" font-weight=\"100\" text-anchor=\"middle\" >132531</text>\n",
       "  <text x=\"140.000000\" y=\"60.000000\" font-size=\"1.0rem\" font-weight=\"100\" text-anchor=\"middle\" transform=\"rotate(-90,140.000000,60.000000)\">132531</text>\n",
       "</svg>\n",
       "        </td>\n",
       "    </tr>\n",
       "</table>"
      ]
     },
     "execution_count": 22,
     "metadata": {},
     "output_type": "execute_result"
    }
   ],
   "execution_count": 22
  },
  {
   "metadata": {
    "jupyter": {
     "is_executing": true
    },
    "ExecuteTime": {
     "end_time": "2024-10-02T11:51:27.904132800Z",
     "start_time": "2024-10-02T11:44:24.228143Z"
    }
   },
   "cell_type": "code",
   "source": "train_error = train_error_da.compute()\n",
   "id": "c0157ab682646d54",
   "outputs": [
    {
     "name": "stdout",
     "output_type": "stream",
     "text": [
      "[###################                     ] | 47% Completed |  7min  2.0s"
     ]
    }
   ],
   "execution_count": null
  }
 ],
 "metadata": {
  "kernelspec": {
   "display_name": "Python 3",
   "language": "python",
   "name": "python3"
  },
  "language_info": {
   "codemirror_mode": {
    "name": "ipython",
    "version": 2
   },
   "file_extension": ".py",
   "mimetype": "text/x-python",
   "name": "python",
   "nbconvert_exporter": "python",
   "pygments_lexer": "ipython2",
   "version": "2.7.6"
  }
 },
 "nbformat": 4,
 "nbformat_minor": 5
}

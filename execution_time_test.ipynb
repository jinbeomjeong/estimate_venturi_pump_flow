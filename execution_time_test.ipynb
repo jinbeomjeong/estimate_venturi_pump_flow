{
 "cells": [
  {
   "cell_type": "code",
   "execution_count": 1,
   "id": "initial_id",
   "metadata": {
    "collapsed": true,
    "ExecuteTime": {
     "end_time": "2023-11-13T07:23:25.223684100Z",
     "start_time": "2023-11-13T07:23:25.178684300Z"
    }
   },
   "outputs": [],
   "source": [
    "import time\n",
    "import numpy as np\n",
    "\n",
    "from utils.load_model import FlowRateInference\n",
    "from utils.dataset import load_dataset"
   ]
  },
  {
   "cell_type": "code",
   "execution_count": 2,
   "outputs": [],
   "source": [
    "train_dataset_indices = [24, 23, 18, 20, 19, 17, 22, 21, 3, 5, 4, 1, 6, 7, 8, 2, 26, 29, 25, 27, 32, 28, 30, 31]\n",
    "val_dataset_indices = [16, 13, 15, 9, 14, 10, 12, 11]"
   ],
   "metadata": {
    "collapsed": false,
    "ExecuteTime": {
     "end_time": "2023-11-13T07:23:25.237684500Z",
     "start_time": "2023-11-13T07:23:25.223684100Z"
    }
   },
   "id": "6bb32a70104b98a"
  },
  {
   "cell_type": "code",
   "execution_count": 3,
   "outputs": [
    {
     "name": "stderr",
     "output_type": "stream",
     "text": [
      "load dataset: 100%|████████████████████████████| 32/32 [00:00<00:00, 316.84it/s]\n"
     ]
    }
   ],
   "source": [
    "train_dataset,  val_dataset = load_dataset(train_dataset_indices=np.array(train_dataset_indices),\n",
    "                                           val_dataset_indices=np.array(val_dataset_indices))"
   ],
   "metadata": {
    "collapsed": false,
    "ExecuteTime": {
     "end_time": "2023-11-13T07:23:25.363683500Z",
     "start_time": "2023-11-13T07:23:25.239685400Z"
    }
   },
   "id": "85255bddb3561fe2"
  },
  {
   "cell_type": "code",
   "execution_count": 4,
   "outputs": [
    {
     "data": {
      "text/plain": "      main_pump_inlet_P(bar)  main_pump_outlet_P(bar)  \\\n0                     -0.079                   -0.127   \n1                     -0.028                   -0.127   \n2                      0.002                   -0.126   \n3                     -0.018                   -0.127   \n4                     -0.034                   -0.126   \n...                      ...                      ...   \n2019                  -0.056                   -0.126   \n2020                  -0.071                   -0.126   \n2021                  -0.063                   -0.126   \n2022                   0.006                   -0.126   \n2023                  -0.085                   -0.127   \n\n      venturi_pump_inlet_P(bar)  venturi_pump_outlet_F(LPM)  \n0                        -0.101                      45.944  \n1                        -0.097                      47.094  \n2                        -0.088                      47.406  \n3                        -0.090                      46.974  \n4                        -0.092                      45.945  \n...                         ...                         ...  \n2019                     -0.101                      39.868  \n2020                     -0.097                      39.296  \n2021                     -0.097                      40.094  \n2022                     -0.088                      40.273  \n2023                     -0.095                      40.266  \n\n[52101 rows x 4 columns]",
      "text/html": "<div>\n<style scoped>\n    .dataframe tbody tr th:only-of-type {\n        vertical-align: middle;\n    }\n\n    .dataframe tbody tr th {\n        vertical-align: top;\n    }\n\n    .dataframe thead th {\n        text-align: right;\n    }\n</style>\n<table border=\"1\" class=\"dataframe\">\n  <thead>\n    <tr style=\"text-align: right;\">\n      <th></th>\n      <th>main_pump_inlet_P(bar)</th>\n      <th>main_pump_outlet_P(bar)</th>\n      <th>venturi_pump_inlet_P(bar)</th>\n      <th>venturi_pump_outlet_F(LPM)</th>\n    </tr>\n  </thead>\n  <tbody>\n    <tr>\n      <th>0</th>\n      <td>-0.079</td>\n      <td>-0.127</td>\n      <td>-0.101</td>\n      <td>45.944</td>\n    </tr>\n    <tr>\n      <th>1</th>\n      <td>-0.028</td>\n      <td>-0.127</td>\n      <td>-0.097</td>\n      <td>47.094</td>\n    </tr>\n    <tr>\n      <th>2</th>\n      <td>0.002</td>\n      <td>-0.126</td>\n      <td>-0.088</td>\n      <td>47.406</td>\n    </tr>\n    <tr>\n      <th>3</th>\n      <td>-0.018</td>\n      <td>-0.127</td>\n      <td>-0.090</td>\n      <td>46.974</td>\n    </tr>\n    <tr>\n      <th>4</th>\n      <td>-0.034</td>\n      <td>-0.126</td>\n      <td>-0.092</td>\n      <td>45.945</td>\n    </tr>\n    <tr>\n      <th>...</th>\n      <td>...</td>\n      <td>...</td>\n      <td>...</td>\n      <td>...</td>\n    </tr>\n    <tr>\n      <th>2019</th>\n      <td>-0.056</td>\n      <td>-0.126</td>\n      <td>-0.101</td>\n      <td>39.868</td>\n    </tr>\n    <tr>\n      <th>2020</th>\n      <td>-0.071</td>\n      <td>-0.126</td>\n      <td>-0.097</td>\n      <td>39.296</td>\n    </tr>\n    <tr>\n      <th>2021</th>\n      <td>-0.063</td>\n      <td>-0.126</td>\n      <td>-0.097</td>\n      <td>40.094</td>\n    </tr>\n    <tr>\n      <th>2022</th>\n      <td>0.006</td>\n      <td>-0.126</td>\n      <td>-0.088</td>\n      <td>40.273</td>\n    </tr>\n    <tr>\n      <th>2023</th>\n      <td>-0.085</td>\n      <td>-0.127</td>\n      <td>-0.095</td>\n      <td>40.266</td>\n    </tr>\n  </tbody>\n</table>\n<p>52101 rows × 4 columns</p>\n</div>"
     },
     "execution_count": 4,
     "metadata": {},
     "output_type": "execute_result"
    }
   ],
   "source": [
    "train_dataset"
   ],
   "metadata": {
    "collapsed": false,
    "ExecuteTime": {
     "end_time": "2023-11-13T07:23:25.373684200Z",
     "start_time": "2023-11-13T07:23:25.358683900Z"
    }
   },
   "id": "b6baf4adc3d54d8d"
  },
  {
   "cell_type": "code",
   "execution_count": 5,
   "outputs": [
    {
     "name": "stdout",
     "output_type": "stream",
     "text": [
      "model load time(sec): 0.2\n"
     ]
    }
   ],
   "source": [
    "basic_model = FlowRateInference()"
   ],
   "metadata": {
    "collapsed": false,
    "ExecuteTime": {
     "end_time": "2023-11-13T07:23:27.255493200Z",
     "start_time": "2023-11-13T07:23:27.051494800Z"
    }
   },
   "id": "c335bc1023eeff3b"
  }
 ],
 "metadata": {
  "kernelspec": {
   "display_name": "Python 3",
   "language": "python",
   "name": "python3"
  },
  "language_info": {
   "codemirror_mode": {
    "name": "ipython",
    "version": 2
   },
   "file_extension": ".py",
   "mimetype": "text/x-python",
   "name": "python",
   "nbconvert_exporter": "python",
   "pygments_lexer": "ipython2",
   "version": "2.7.6"
  }
 },
 "nbformat": 4,
 "nbformat_minor": 5
}
